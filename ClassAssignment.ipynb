{
 "cells": [
  {
   "cell_type": "code",
   "execution_count": 5,
   "id": "b601b890",
   "metadata": {},
   "outputs": [
    {
     "name": "stdout",
     "output_type": "stream",
     "text": [
      "Enter the number10\n",
      "Number is even\n"
     ]
    }
   ],
   "source": [
    "#Assignment\n",
    "\n",
    "try:\n",
    "    n = int(input(\"Enter the number\"))\n",
    "    if (n>0):\n",
    "        if (n%2 ==0):\n",
    "            print (\"Number is even\")\n",
    "        else:\n",
    "            print(\"Number is odd\")\n",
    "    file_data = open(\"data.txt\",\"a\")\n",
    "    file_data.write(str(n))\n",
    "    file_data.close()\n",
    "except ValueError:\n",
    "    print(\"Only integers are allowed\")"
   ]
  },
  {
   "cell_type": "code",
   "execution_count": 6,
   "id": "d8396dac",
   "metadata": {},
   "outputs": [
    {
     "name": "stdout",
     "output_type": "stream",
     "text": [
      "Constructor3\n",
      "Constructor3\n"
     ]
    }
   ],
   "source": [
    "#Assignment\n",
    "\n",
    "class Person:\n",
    "    def __init__(self):\n",
    "        print(\"Constructor1\")\n",
    "    def __init__(self):\n",
    "        print(\"Constructor2\")\n",
    "        \n",
    "    def __init__(self):\n",
    "        print(\"Constructor3\")\n",
    "p = Person()\n",
    "p = Person()"
   ]
  },
  {
   "cell_type": "code",
   "execution_count": 7,
   "id": "c1bf65f4",
   "metadata": {},
   "outputs": [
    {
     "name": "stdout",
     "output_type": "stream",
     "text": [
      "Data is 101 shyam kam@gmail.com 100\n",
      "Data is 1001 ram ram@gmail.com 200 completed\n"
     ]
    }
   ],
   "source": [
    "#Assignment\n",
    "class Driver:\n",
    "    def __init__(self,did,name,email,wallet):\n",
    "        self.did=did\n",
    "        self.name=name\n",
    "        self.email=email\n",
    "        self.wallet=wallet\n",
    "        \n",
    "    def information_data(self):\n",
    "        print(f\"Data is {self.did} {self.name} {self.email} {self.wallet}\")\n",
    "\n",
    "# inheritence relationship\n",
    "class Customer(Driver):\n",
    "    def __init__(self,did,name,email,wallet,tripInfo):\n",
    "        \n",
    "        # this is child class method\n",
    "        super().__init__(did,name,email,wallet)\n",
    "        self.tripInfo=tripInfo\n",
    "    def show_data(self):\n",
    "        print(f\"Data is {self.did} {self.name} {self.email} {self.wallet} {self.tripInfo}\")\n",
    "        \n",
    "        \n",
    "        \n",
    "        \n",
    "d1= Driver(101,'shyam','kam@gmail.com',100)\n",
    "c1= Customer(1001,'ram','ram@gmail.com',200,\"completed\")\n",
    "\n",
    "\n",
    "d1.information_data()\n",
    "c1.show_data()"
   ]
  },
  {
   "cell_type": "code",
   "execution_count": 8,
   "id": "b630c6b3",
   "metadata": {},
   "outputs": [
    {
     "name": "stdout",
     "output_type": "stream",
     "text": [
      "Human 45 twentyfirst\n"
     ]
    }
   ],
   "source": [
    "#MULTILEVEL INHERITENCE\n",
    "#Assignment\n",
    "\n",
    "class Mammal:\n",
    "    def __init__(self,name):\n",
    "        self.name=name\n",
    "    def getName(self):\n",
    "        return self.name\n",
    "class Human(Mammal):\n",
    "    def __init__(self,name,age):\n",
    "        Mammal.__init__(self,name)\n",
    "        self.age = age\n",
    "    def getAge(self):\n",
    "        return self.age\n",
    "class SHuman(Human):\n",
    "    def __init__(self,name,age,century):\n",
    "        Human.__init__(self,name,age)\n",
    "        self.century=century\n",
    "    def getCentury(self):\n",
    "        return self.century\n",
    "    \n",
    "sh = SHuman(\"Human\",45,\"twentyfirst\")\n",
    "print(sh.getName(),sh.getAge(),sh.getCentury())"
   ]
  },
  {
   "cell_type": "code",
   "execution_count": 9,
   "id": "f230c9a9",
   "metadata": {},
   "outputs": [
    {
     "name": "stdout",
     "output_type": "stream",
     "text": [
      "False\n"
     ]
    }
   ],
   "source": [
    "#ASSIGNMENT\n",
    "\n",
    "class GreaterNumber:\n",
    "    def __init__(self,num1,num2):\n",
    "        self.num1=num1\n",
    "        self.num2=num2\n",
    "        \n",
    "    #printing the string <= __ dunder function\n",
    "    def __str__(self):\n",
    "        return(f\"Data is {self.num1} {self.num2}\")\n",
    "    def __gt__(self,delt):\n",
    "        if self.num1+delt.num1>self.num2+delt.num2:\n",
    "            return True\n",
    "        else:\n",
    "            return False\n",
    "a1= GreaterNumber(10,20)\n",
    "a2=GreaterNumber(15,25)\n",
    "print(a1>a2)"
   ]
  },
  {
   "cell_type": "code",
   "execution_count": 11,
   "id": "2451e897",
   "metadata": {},
   "outputs": [],
   "source": [
    "#ASSIGNMENT\n",
    "\n",
    "class Employee:\n",
    "    def __init__(self,emp_id,first_name,last_name,email,salary,pct_amount):\n",
    "        self.emp_id=emp_id\n",
    "        self.first_name=first_name\n",
    "        self.last_name=last_name\n",
    "        self.email=email\n",
    "        self.salary=salary\n",
    "        self.pct_amount=pct_amount\n",
    "        \n",
    "    def annual_increment(self):\n",
    "        increment_amount = self.salary * self.pct_amount/100\n",
    "        incremented_salary= increment_amount + self.salary\n",
    "        return( increment_amount ,incremented_salary)\n",
    "\n",
    "        \n",
    "        \n",
    "class DetailDisplay(Employee):\n",
    "    def print_stuff(self):\n",
    "        print(f\"Employee ID: {self.emp_id}\")\n",
    "        print(f\"Hello, Mr./Ms. {self.first_name} {self.last_name}\")\n",
    "        print(f\"Domain Name: {self.email.split('@')[1].split('.')[0]}\")\n",
    "        inc_amount, inc_salary = self.annual_increment()\n",
    "        print(f\"Increment amount: {inc_amount}\\nIncrement salary: {inc_salary}\")\n",
    "        "
   ]
  },
  {
   "cell_type": "code",
   "execution_count": 12,
   "id": "4ad4e21f",
   "metadata": {},
   "outputs": [
    {
     "name": "stdout",
     "output_type": "stream",
     "text": [
      "Employee ID: 123\n",
      "Hello, Mr./Ms. Abhishek Kamal\n",
      "Domain Name: gmail\n",
      "Increment amount: 1000.0\n",
      "Increment salary: 2000.0\n"
     ]
    }
   ],
   "source": [
    "emp = DetailDisplay(\"123\",\"Abhishek\",\"Kamal\",\"kamalabhi@gmail.com\",1000,100)\n",
    "emp.print_stuff()"
   ]
  },
  {
   "cell_type": "code",
   "execution_count": null,
   "id": "2afca337",
   "metadata": {},
   "outputs": [],
   "source": [
    "n = input(\"Enter the password\")\n",
    "c,d,e,f= 0, 0, 0, 0\n",
    "length = 10\n",
    "check1=\"ABCDEFGHIJKLMNOPQRSTUVWXYZ\"\n",
    "check2= \"abcdefghijklmnopqrstuvwxyz\"\n",
    "check3 = \"0123456789\"\n",
    "check4 =\"@#$\"\n",
    "if (len(n)>=length):\n",
    "    for i in n:\n",
    "        if(i in check1):\n",
    "            c1+=1\n",
    "        if (i in check2):\n",
    "            c2+=1\n",
    "        if (i in check3):\n",
    "            c3+=1\n",
    "        if (i in check4):\n",
    "            c4+=1\n",
    "if (c1>=1 and c2>=1 and c3>=1 and c4>=1 and c1+c2+c3+c4==len(n)):\n",
    "    print(\"Valid Password\")\n",
    "else:\n",
    "    print(\"Invalid Password\")"
   ]
  },
  {
   "cell_type": "code",
   "execution_count": null,
   "id": "b6d7a236",
   "metadata": {},
   "outputs": [],
   "source": []
  }
 ],
 "metadata": {
  "kernelspec": {
   "display_name": "Python 3 (ipykernel)",
   "language": "python",
   "name": "python3"
  },
  "language_info": {
   "codemirror_mode": {
    "name": "ipython",
    "version": 3
   },
   "file_extension": ".py",
   "mimetype": "text/x-python",
   "name": "python",
   "nbconvert_exporter": "python",
   "pygments_lexer": "ipython3",
   "version": "3.9.12"
  }
 },
 "nbformat": 4,
 "nbformat_minor": 5
}
